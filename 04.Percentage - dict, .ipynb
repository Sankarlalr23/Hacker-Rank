{
 "cells": [
  {
   "cell_type": "markdown",
   "metadata": {},
   "source": [
    "## Finding the percentage"
   ]
  },
  {
   "cell_type": "code",
   "execution_count": 8,
   "metadata": {},
   "outputs": [
    {
     "name": "stdout",
     "output_type": "stream",
     "text": [
      "56.00\n"
     ]
    }
   ],
   "source": [
    "if __name__ == '__main__':\n",
    "#     n = int(input())\n",
    "#     student_marks = {}\n",
    "#     for _ in range(n):\n",
    "#         name, *line = input().split()\n",
    "#         scores = list(map(float, line))\n",
    "#         student_marks[name] = scores\n",
    "#     query_name = input()\n",
    "#     print(student_marks)\n",
    "    \n",
    "    student_marks = {'Krishna' : [67,68,69], 'Arjun' : [70,98,63], 'Malika' : [52,56,60] }\n",
    "    query_name = 'Malika'\n",
    "    \n",
    "    if query_name in student_marks:\n",
    "#         print (True)\n",
    "#         Sum = 0.00    \n",
    "#         for i in student_marks[query_name]:\n",
    "#             Sum += float(i)\n",
    "        Avg = sum(student_marks[query_name])/len(student_marks[query_name])\n",
    "        print((\"{:.2f}\".format(Avg)))"
   ]
  },
  {
   "cell_type": "raw",
   "metadata": {},
   "source": []
  },
  {
   "cell_type": "code",
   "execution_count": null,
   "metadata": {},
   "outputs": [],
   "source": []
  },
  {
   "cell_type": "code",
   "execution_count": null,
   "metadata": {},
   "outputs": [],
   "source": []
  }
 ],
 "metadata": {
  "kernelspec": {
   "display_name": "Python 3",
   "language": "python",
   "name": "python3"
  },
  "language_info": {
   "codemirror_mode": {
    "name": "ipython",
    "version": 3
   },
   "file_extension": ".py",
   "mimetype": "text/x-python",
   "name": "python",
   "nbconvert_exporter": "python",
   "pygments_lexer": "ipython3",
   "version": "3.7.6"
  }
 },
 "nbformat": 4,
 "nbformat_minor": 4
}
