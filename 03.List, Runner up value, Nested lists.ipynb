{
 "cells": [
  {
   "cell_type": "markdown",
   "metadata": {},
   "source": [
    "## List Comprehensions"
   ]
  },
  {
   "cell_type": "code",
   "execution_count": 20,
   "metadata": {},
   "outputs": [
    {
     "name": "stdout",
     "output_type": "stream",
     "text": [
      "2\n",
      "2\n",
      "2\n",
      "2\n",
      "[[0, 0, 0], [0, 0, 1], [0, 1, 0], [0, 1, 2], [0, 2, 1], [0, 2, 2], [1, 0, 0], [1, 0, 2], [1, 1, 1], [1, 1, 2], [1, 2, 0], [1, 2, 1], [1, 2, 2], [2, 0, 1], [2, 0, 2], [2, 1, 0], [2, 1, 1], [2, 1, 2], [2, 2, 0], [2, 2, 1], [2, 2, 2]]\n"
     ]
    }
   ],
   "source": [
    "if __name__ == '__main__':\n",
    "    x = int(input())\n",
    "    y = int(input())\n",
    "    z = int(input())\n",
    "    n = int(input())\n",
    "\n",
    "lstout = []\n",
    "\n",
    "lst1 = [i for i in range(x+1)]\n",
    "lst2 = [j for j in range(y+1)]\n",
    "lst3 = [k for k in range(z+1)]\n",
    "\n",
    "for i in lst1:\n",
    "    for j in lst2:\n",
    "        for k in lst3:\n",
    "            if i+j+k != n:\n",
    "                lstout.append([i,j,k])\n",
    "            else:\n",
    "                None  \n",
    "                \n",
    "print(lstout)\n",
    "    \n",
    "                "
   ]
  },
  {
   "cell_type": "markdown",
   "metadata": {},
   "source": [
    "## Find the Runner-Up Score!"
   ]
  },
  {
   "cell_type": "code",
   "execution_count": 53,
   "metadata": {},
   "outputs": [
    {
     "name": "stdout",
     "output_type": "stream",
     "text": [
      "5\n",
      "2 3 4 5 5\n",
      "4\n"
     ]
    }
   ],
   "source": [
    "if __name__ == '__main__':\n",
    "    n = int(input())\n",
    "    arr = map(int, input().split())\n",
    "    \n",
    "lst = list(arr)\n",
    "\n",
    "def Runner_up(n,lst):\n",
    "    t = 0\n",
    "    lst1 = []\n",
    "    if n in range (2,11):\n",
    "            for i in lst:\n",
    "                if (i >= -100 and i <= 100):\n",
    "                    if i not in lst1:\n",
    "                        lst1.append(i)\n",
    "                        \n",
    "            t = max(lst1)\n",
    "            lst1.remove(t)\n",
    "            t1 = max(lst1)\n",
    "            return (t1)\n",
    "            \n",
    "print(Runner_up(n, lst))\n"
   ]
  },
  {
   "cell_type": "code",
   "execution_count": 40,
   "metadata": {},
   "outputs": [
    {
     "name": "stdout",
     "output_type": "stream",
     "text": [
      "['__add__', '__class__', '__contains__', '__delattr__', '__delitem__', '__dir__', '__doc__', '__eq__', '__format__', '__ge__', '__getattribute__', '__getitem__', '__gt__', '__hash__', '__iadd__', '__imul__', '__init__', '__init_subclass__', '__iter__', '__le__', '__len__', '__lt__', '__mul__', '__ne__', '__new__', '__reduce__', '__reduce_ex__', '__repr__', '__reversed__', '__rmul__', '__setattr__', '__setitem__', '__sizeof__', '__str__', '__subclasshook__', 'append', 'clear', 'copy', 'count', 'extend', 'index', 'insert', 'pop', 'remove', 'reverse', 'sort']\n"
     ]
    }
   ],
   "source": [
    "print(dir(lst))"
   ]
  },
  {
   "cell_type": "markdown",
   "metadata": {},
   "source": [
    "## Nested Lists"
   ]
  },
  {
   "cell_type": "code",
   "execution_count": 26,
   "metadata": {},
   "outputs": [
    {
     "name": "stdout",
     "output_type": "stream",
     "text": [
      "2\n",
      "s\n",
      "3\n",
      "s\n",
      "3\n",
      "s\n",
      "s\n"
     ]
    }
   ],
   "source": [
    "if __name__ == '__main__':\n",
    "    lst = []\n",
    "    for _ in range(int(input())):\n",
    "        name = input()\n",
    "        score = float(input())\n",
    "        lst.append([name,score])\n",
    "    \n",
    "    if len(lst) in range (2,6):\n",
    "#         print(lst)\n",
    "    #     print(len(lst))\n",
    "        lst1 = ['a',10000000000.0]   #this assignment wont work always\n",
    "        lst2 = ['a',10000000000.0]\n",
    "        lstout = []\n",
    "        for i in range (0,len(lst)):\n",
    "            if lst[i][1] < lst1[1]:\n",
    "                lst1 = lst[i]\n",
    "    #             print(lst1)\n",
    "        lst.remove(lst1)\n",
    "        for i in range (0,len(lst)):\n",
    "            if lst[i][1] < lst2[1]:\n",
    "                lst2 = lst[i]\n",
    "        if lst1[1] == lst2[1]:\n",
    "            lst.append(lst1)\n",
    "\n",
    "        for i in range (0,len(lst)):\n",
    "            if lst[i][1] == lst2[1]:\n",
    "                lstout.append(lst[i])\n",
    "\n",
    "        lstout.sort()\n",
    "        for i in range (0,len(lstout)):\n",
    "                        print(lstout[i][0])"
   ]
  },
  {
   "cell_type": "code",
   "execution_count": 52,
   "metadata": {},
   "outputs": [
    {
     "ename": "TypeError",
     "evalue": "list indices must be integers or slices, not list",
     "output_type": "error",
     "traceback": [
      "\u001b[1;31m---------------------------------------------------------------------------\u001b[0m",
      "\u001b[1;31mTypeError\u001b[0m                                 Traceback (most recent call last)",
      "\u001b[1;32m<ipython-input-52-bd1b33a7e011>\u001b[0m in \u001b[0;36m<module>\u001b[1;34m\u001b[0m\n\u001b[0;32m     34\u001b[0m     \u001b[1;32mfor\u001b[0m \u001b[0mj\u001b[0m \u001b[1;32min\u001b[0m \u001b[0mlst\u001b[0m\u001b[1;33m:\u001b[0m\u001b[1;33m\u001b[0m\u001b[1;33m\u001b[0m\u001b[0m\n\u001b[0;32m     35\u001b[0m         \u001b[1;32mif\u001b[0m \u001b[0mj\u001b[0m\u001b[1;33m[\u001b[0m\u001b[1;36m1\u001b[0m\u001b[1;33m]\u001b[0m \u001b[1;33m==\u001b[0m \u001b[0mlst\u001b[0m\u001b[1;33m[\u001b[0m\u001b[1;36m0\u001b[0m\u001b[1;33m]\u001b[0m\u001b[1;33m[\u001b[0m\u001b[1;36m1\u001b[0m\u001b[1;33m]\u001b[0m\u001b[1;33m:\u001b[0m\u001b[1;33m\u001b[0m\u001b[1;33m\u001b[0m\u001b[0m\n\u001b[1;32m---> 36\u001b[1;33m             \u001b[0mlst3\u001b[0m\u001b[1;33m.\u001b[0m\u001b[0mappend\u001b[0m\u001b[1;33m(\u001b[0m\u001b[0mlst\u001b[0m\u001b[1;33m[\u001b[0m\u001b[0mj\u001b[0m\u001b[1;33m]\u001b[0m\u001b[1;33m)\u001b[0m\u001b[1;33m\u001b[0m\u001b[1;33m\u001b[0m\u001b[0m\n\u001b[0m\u001b[0;32m     37\u001b[0m \u001b[1;33m\u001b[0m\u001b[0m\n\u001b[0;32m     38\u001b[0m     \u001b[0mlst3\u001b[0m\u001b[1;33m.\u001b[0m\u001b[0msort\u001b[0m\u001b[1;33m(\u001b[0m\u001b[1;33m)\u001b[0m\u001b[1;33m\u001b[0m\u001b[1;33m\u001b[0m\u001b[0m\n",
      "\u001b[1;31mTypeError\u001b[0m: list indices must be integers or slices, not list"
     ]
    }
   ],
   "source": [
    "if __name__ == '__main__':\n",
    "    lst = []\n",
    "    for _ in range(int(input())):\n",
    "        name = input()\n",
    "        score = float(input())\n",
    "        lst.append([name,score])\n",
    "    \n",
    "#     lst = [['Harry', 37.21],['Berry',37.21],['Tina',37.2],['Akriti',41],['Harsh',39]]\n",
    "    \n",
    "    def sorting_value(lst1):\n",
    "        return lst1[1]\n",
    "    \n",
    "    lst.sort(key = sorting_value)\n",
    "    \n",
    "    lst2 = [lst[0]]\n",
    "    \n",
    "    for j in range(1,len(lst)):\n",
    "        if lst[j][1] == lst[0][1]:\n",
    "            lst2.append(lst[j])\n",
    "#     print(lst2)\n",
    "#     print(lst)\n",
    "    \n",
    "    for i in lst2:\n",
    "        lst.remove(i)\n",
    "        \n",
    "    if lst == []:\n",
    "        lst = lst2\n",
    "    \n",
    "    lst.sort(key = sorting_value)\n",
    "    \n",
    "    lst3 = [lst[0]]\n",
    "#     print(lst3)\n",
    "    \n",
    "    for j in range(1,len(lst)):\n",
    "        if lst[j][1] == lst[0][1]:\n",
    "            lst3.append(lst[j])\n",
    "\n",
    "    lst3.sort()\n",
    "    \n",
    "    for i in lst3:\n",
    "        print(i[0])\n",
    "        \n",
    "        \n",
    "             "
   ]
  },
  {
   "cell_type": "code",
   "execution_count": null,
   "metadata": {},
   "outputs": [],
   "source": []
  },
  {
   "cell_type": "code",
   "execution_count": null,
   "metadata": {},
   "outputs": [],
   "source": []
  },
  {
   "cell_type": "code",
   "execution_count": null,
   "metadata": {},
   "outputs": [],
   "source": []
  }
 ],
 "metadata": {
  "kernelspec": {
   "display_name": "Python 3",
   "language": "python",
   "name": "python3"
  },
  "language_info": {
   "codemirror_mode": {
    "name": "ipython",
    "version": 3
   },
   "file_extension": ".py",
   "mimetype": "text/x-python",
   "name": "python",
   "nbconvert_exporter": "python",
   "pygments_lexer": "ipython3",
   "version": "3.7.6"
  }
 },
 "nbformat": 4,
 "nbformat_minor": 4
}
